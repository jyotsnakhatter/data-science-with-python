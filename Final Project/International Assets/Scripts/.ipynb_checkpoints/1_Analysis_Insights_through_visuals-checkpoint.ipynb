{
 "cells": [
  {
   "cell_type": "markdown",
   "metadata": {},
   "source": [
    "# This file shows us some good Insights of our data through Graphs to understand our dataset well."
   ]
  },
  {
   "cell_type": "code",
   "execution_count": null,
   "metadata": {},
   "outputs": [],
   "source": [
    "import os\n",
    "import pandas as pd \n",
    "import numpy as np \n",
    "import matplotlib\n",
    "import matplotlib.pyplot as plt # for plotting\n",
    "import seaborn as sns # for making plots with seaborn\n",
    "color = sns.color_palette()\n",
    "from plotly.offline import init_notebook_mode, iplot\n",
    "init_notebook_mode(connected=True)\n",
    "import plotly.graph_objs as go\n",
    "import plotly.offline as offline\n",
    "offline.init_notebook_mode()\n",
    "from plotly import tools\n",
    "import warnings\n",
    "warnings.filterwarnings('ignore')\n",
    "import plotly.tools as tls\n",
    "import squarify\n",
    "from mpl_toolkits.basemap import Basemap\n",
    "from numpy import array\n",
    "from matplotlib import cm"
   ]
  },
  {
   "cell_type": "code",
   "execution_count": 16,
   "metadata": {},
   "outputs": [
    {
     "data": {
      "text/html": [
       "<div>\n",
       "<style scoped>\n",
       "    .dataframe tbody tr th:only-of-type {\n",
       "        vertical-align: middle;\n",
       "    }\n",
       "\n",
       "    .dataframe tbody tr th {\n",
       "        vertical-align: top;\n",
       "    }\n",
       "\n",
       "    .dataframe thead th {\n",
       "        text-align: right;\n",
       "    }\n",
       "</style>\n",
       "<table border=\"1\" class=\"dataframe\">\n",
       "  <thead>\n",
       "    <tr style=\"text-align: right;\">\n",
       "      <th></th>\n",
       "      <th>country_or_area</th>\n",
       "      <th>year</th>\n",
       "      <th>comm_code</th>\n",
       "      <th>commodity</th>\n",
       "      <th>flow</th>\n",
       "      <th>trade_usd</th>\n",
       "      <th>weight_kg</th>\n",
       "      <th>quantity_name</th>\n",
       "      <th>quantity</th>\n",
       "      <th>category</th>\n",
       "    </tr>\n",
       "  </thead>\n",
       "  <tbody>\n",
       "    <tr>\n",
       "      <th>0</th>\n",
       "      <td>Afghanistan</td>\n",
       "      <td>2016</td>\n",
       "      <td>10410</td>\n",
       "      <td>Sheep, live</td>\n",
       "      <td>Export</td>\n",
       "      <td>6088</td>\n",
       "      <td>2339.0</td>\n",
       "      <td>Number of items</td>\n",
       "      <td>51.0</td>\n",
       "      <td>01_live_animals</td>\n",
       "    </tr>\n",
       "    <tr>\n",
       "      <th>1</th>\n",
       "      <td>Afghanistan</td>\n",
       "      <td>2016</td>\n",
       "      <td>10420</td>\n",
       "      <td>Goats, live</td>\n",
       "      <td>Export</td>\n",
       "      <td>3958</td>\n",
       "      <td>984.0</td>\n",
       "      <td>Number of items</td>\n",
       "      <td>53.0</td>\n",
       "      <td>01_live_animals</td>\n",
       "    </tr>\n",
       "    <tr>\n",
       "      <th>2</th>\n",
       "      <td>Afghanistan</td>\n",
       "      <td>2008</td>\n",
       "      <td>10210</td>\n",
       "      <td>Bovine animals, live pure-bred breeding</td>\n",
       "      <td>Import</td>\n",
       "      <td>1026804</td>\n",
       "      <td>272.0</td>\n",
       "      <td>Number of items</td>\n",
       "      <td>3769.0</td>\n",
       "      <td>01_live_animals</td>\n",
       "    </tr>\n",
       "    <tr>\n",
       "      <th>3</th>\n",
       "      <td>Albania</td>\n",
       "      <td>2016</td>\n",
       "      <td>10290</td>\n",
       "      <td>Bovine animals, live, except pure-bred breeding</td>\n",
       "      <td>Import</td>\n",
       "      <td>2414533</td>\n",
       "      <td>1114023.0</td>\n",
       "      <td>Number of items</td>\n",
       "      <td>6853.0</td>\n",
       "      <td>01_live_animals</td>\n",
       "    </tr>\n",
       "    <tr>\n",
       "      <th>4</th>\n",
       "      <td>Albania</td>\n",
       "      <td>2016</td>\n",
       "      <td>10392</td>\n",
       "      <td>Swine, live except pure-bred breeding &gt; 50 kg</td>\n",
       "      <td>Import</td>\n",
       "      <td>14265937</td>\n",
       "      <td>9484953.0</td>\n",
       "      <td>Number of items</td>\n",
       "      <td>96040.0</td>\n",
       "      <td>01_live_animals</td>\n",
       "    </tr>\n",
       "  </tbody>\n",
       "</table>\n",
       "</div>"
      ],
      "text/plain": [
       "  country_or_area  year comm_code  \\\n",
       "0     Afghanistan  2016     10410   \n",
       "1     Afghanistan  2016     10420   \n",
       "2     Afghanistan  2008     10210   \n",
       "3         Albania  2016     10290   \n",
       "4         Albania  2016     10392   \n",
       "\n",
       "                                         commodity    flow  trade_usd  \\\n",
       "0                                      Sheep, live  Export       6088   \n",
       "1                                      Goats, live  Export       3958   \n",
       "2          Bovine animals, live pure-bred breeding  Import    1026804   \n",
       "3  Bovine animals, live, except pure-bred breeding  Import    2414533   \n",
       "4    Swine, live except pure-bred breeding > 50 kg  Import   14265937   \n",
       "\n",
       "   weight_kg    quantity_name  quantity         category  \n",
       "0     2339.0  Number of items      51.0  01_live_animals  \n",
       "1      984.0  Number of items      53.0  01_live_animals  \n",
       "2      272.0  Number of items    3769.0  01_live_animals  \n",
       "3  1114023.0  Number of items    6853.0  01_live_animals  \n",
       "4  9484953.0  Number of items   96040.0  01_live_animals  "
      ]
     },
     "execution_count": 16,
     "metadata": {},
     "output_type": "execute_result"
    }
   ],
   "source": [
    "df=pd.read_csv('../data/international_assets_statistics.csv')\n",
    "df.head()\n"
   ]
  },
  {
   "cell_type": "markdown",
   "metadata": {},
   "source": [
    "## Let us get some meaningful insight from United Nation's international asset trading dataset!\n",
    "\n",
    "### Which year got the highest import export?"
   ]
  },
  {
   "cell_type": "code",
   "execution_count": 4,
   "metadata": {},
   "outputs": [
    {
     "data": {
      "text/html": [
       "<div>\n",
       "<style scoped>\n",
       "    .dataframe tbody tr th:only-of-type {\n",
       "        vertical-align: middle;\n",
       "    }\n",
       "\n",
       "    .dataframe tbody tr th {\n",
       "        vertical-align: top;\n",
       "    }\n",
       "\n",
       "    .dataframe thead th {\n",
       "        text-align: right;\n",
       "    }\n",
       "</style>\n",
       "<table border=\"1\" class=\"dataframe\">\n",
       "  <thead>\n",
       "    <tr style=\"text-align: right;\">\n",
       "      <th></th>\n",
       "      <th>weight_kg</th>\n",
       "      <th>quantity</th>\n",
       "    </tr>\n",
       "    <tr>\n",
       "      <th>year</th>\n",
       "      <th></th>\n",
       "      <th></th>\n",
       "    </tr>\n",
       "  </thead>\n",
       "  <tbody>\n",
       "    <tr>\n",
       "      <th>1988</th>\n",
       "      <td>1.449222e+12</td>\n",
       "      <td>1.652953e+12</td>\n",
       "    </tr>\n",
       "  </tbody>\n",
       "</table>\n",
       "</div>"
      ],
      "text/plain": [
       "         weight_kg      quantity\n",
       "year                            \n",
       "1988  1.449222e+12  1.652953e+12"
      ]
     },
     "execution_count": 4,
     "metadata": {},
     "output_type": "execute_result"
    }
   ],
   "source": [
    "df_ie2=df.groupby(['year'],as_index=True)['weight_kg','quantity'].agg('sum')\n",
    "df_ie=df.groupby(['year'],as_index=False)['weight_kg','quantity'].agg('sum')\n",
    "df_ie2.head(1)\n"
   ]
  },
  {
   "cell_type": "code",
   "execution_count": 5,
   "metadata": {},
   "outputs": [
    {
     "data": {
      "text/plain": [
       "<matplotlib.axes._subplots.AxesSubplot at 0x214f59f0f60>"
      ]
     },
     "execution_count": 5,
     "metadata": {},
     "output_type": "execute_result"
    },
    {
     "data": {
      "image/png": "[encoded data removed]",
      "text/plain": [
       "<Figure size 864x432 with 1 Axes>"
      ]
     },
     "metadata": {},
     "output_type": "display_data"
    }
   ],
   "source": [
    "df_ie2.plot(figsize=(12,6))\n"
   ]
  },
  {
   "cell_type": "markdown",
   "metadata": {},
   "source": [
    "### Fun fact: 1998 also marked the beginning of the information technology sector being mainstream into corporations. Could that be the reason of the peak? "
   ]
  },
  {
   "cell_type": "code",
   "execution_count": 6,
   "metadata": {},
   "outputs": [
    {
     "data": {
      "application/vnd.plotly.v1+json": {
       "data": [
        {
         "labels": [
          "Womens",
          "Mens",
          "Paper",
          "Woven fabric",
          "Footwear",
          "Wire",
          "Seed",
          "Wrist-watch",
          "Bars",
          "Chem wood pulp",
          "Woven cotton nes",
          "Rice",
          "Plain weave cotton",
          "Carpets of yarn nes",
          "Trunks",
          "Tea",
          "Headgear nes",
          "Carpets of manmade yarn",
          "Bovine and equine leather",
          "Fabric impregnated"
         ],
         "type": "pie",
         "uid": "22777c82-9b85-11e8-a185-cc35ee620b82",
         "values": [
          13.938898968439805,
          10.644694968667242,
          9.968934307173022,
          8.25489375119533,
          7.971115625371522,
          5.952620941688505,
          4.654684923576328,
          3.8591757511849933,
          3.4366961127393467,
          3.344860204382279,
          3.1965098908824,
          3.17669538907928,
          3.124316184312773,
          2.981651771330311,
          2.6496296411162974,
          2.6193048383567406,
          2.611034437604134,
          2.584327935173842,
          2.5507294321163783,
          2.479224925609468
         ]
        }
       ],
       "layout": {
        "height": 900,
        "title": "Top 20 Commodity Items to be Traded",
        "width": 900
       }
      },
      "text/html": [
       "<div id=\"227245aa-29db-49a5-8f02-08403d7b880d\" style=\"height: 900px; width: 900px;\" class=\"plotly-graph-div\"></div><script type=\"text/javascript\">require([\"plotly\"], function(Plotly) { window.PLOTLYENV=window.PLOTLYENV || {};window.PLOTLYENV.BASE_URL=\"https://plot.ly\";\n",
       "        Plotly.plot(\n",
       "            '227245aa-29db-49a5-8f02-08403d7b880d',\n",
       "            [{\"labels\": [\"Womens\", \"Mens\", \"Paper\", \"Woven fabric\", \"Footwear\", \"Wire\", \"Seed\", \"Wrist-watch\", \"Bars\", \"Chem wood pulp\", \"Woven cotton nes\", \"Rice\", \"Plain weave cotton\", \"Carpets of yarn nes\", \"Trunks\", \"Tea\", \"Headgear nes\", \"Carpets of manmade yarn\", \"Bovine and equine leather\", \"Fabric impregnated\"], \"values\": [13.938898968439805, 10.644694968667242, 9.968934307173022, 8.25489375119533, 7.971115625371522, 5.952620941688505, 4.654684923576328, 3.8591757511849933, 3.4366961127393467, 3.344860204382279, 3.1965098908824, 3.17669538907928, 3.124316184312773, 2.981651771330311, 2.6496296411162974, 2.6193048383567406, 2.611034437604134, 2.584327935173842, 2.5507294321163783, 2.479224925609468], \"type\": \"pie\", \"uid\": \"22777c82-9b85-11e8-a185-cc35ee620b82\"}],\n",
       "            {\"height\": 900, \"title\": \"Top 20 Commodity Items to be Traded\", \"width\": 900},\n",
       "            {\"showLink\": true, \"linkText\": \"Export to plot.ly\"}\n",
       "        ).then(function () {return Plotly.addFrames('227245aa-29db-49a5-8f02-08403d7b880d',{});}).then(function(){Plotly.animate('227245aa-29db-49a5-8f02-08403d7b880d');})\n",
       "        });</script>"
      ],
      "text/vnd.plotly.v1+html": [
       "<div id=\"227245aa-29db-49a5-8f02-08403d7b880d\" style=\"height: 900px; width: 900px;\" class=\"plotly-graph-div\"></div><script type=\"text/javascript\">require([\"plotly\"], function(Plotly) { window.PLOTLYENV=window.PLOTLYENV || {};window.PLOTLYENV.BASE_URL=\"https://plot.ly\";\n",
       "        Plotly.plot(\n",
       "            '227245aa-29db-49a5-8f02-08403d7b880d',\n",
       "            [{\"labels\": [\"Womens\", \"Mens\", \"Paper\", \"Woven fabric\", \"Footwear\", \"Wire\", \"Seed\", \"Wrist-watch\", \"Bars\", \"Chem wood pulp\", \"Woven cotton nes\", \"Rice\", \"Plain weave cotton\", \"Carpets of yarn nes\", \"Trunks\", \"Tea\", \"Headgear nes\", \"Carpets of manmade yarn\", \"Bovine and equine leather\", \"Fabric impregnated\"], \"values\": [13.938898968439805, 10.644694968667242, 9.968934307173022, 8.25489375119533, 7.971115625371522, 5.952620941688505, 4.654684923576328, 3.8591757511849933, 3.4366961127393467, 3.344860204382279, 3.1965098908824, 3.17669538907928, 3.124316184312773, 2.981651771330311, 2.6496296411162974, 2.6193048383567406, 2.611034437604134, 2.584327935173842, 2.5507294321163783, 2.479224925609468], \"type\": \"pie\", \"uid\": \"22777c82-9b85-11e8-a185-cc35ee620b82\"}],\n",
       "            {\"height\": 900, \"title\": \"Top 20 Commodity Items to be Traded\", \"width\": 900},\n",
       "            {\"showLink\": true, \"linkText\": \"Export to plot.ly\"}\n",
       "        ).then(function () {return Plotly.addFrames('227245aa-29db-49a5-8f02-08403d7b880d',{});}).then(function(){Plotly.animate('227245aa-29db-49a5-8f02-08403d7b880d');})\n",
       "        });</script>"
      ]
     },
     "metadata": {},
     "output_type": "display_data"
    }
   ],
   "source": [
    "df_commodity=pd.concat([df['commodity'].str.split(', ', expand=True)], axis=1)\n",
    "temp_series = df_commodity[0].value_counts().head(20)\n",
    "labels = (np.array(temp_series.index))\n",
    "sizes = (np.array((temp_series / temp_series.sum())*100))\n",
    "\n",
    "trace = go.Pie(labels=labels, values=sizes)\n",
    "layout = go.Layout(\n",
    "    title='Top 20 Commodity Items to be Traded',\n",
    "    width=900,\n",
    "    height=900,\n",
    ")\n",
    "data = [trace]\n",
    "fig = go.Figure(data=data, layout=layout)\n",
    "offline.iplot(fig, filename=\"Commodity\")"
   ]
  },
  {
   "cell_type": "markdown",
   "metadata": {},
   "source": [
    "## Let's look at the countries which are dominating global trade. Any guesses?"
   ]
  },
  {
   "cell_type": "code",
   "execution_count": 7,
   "metadata": {},
   "outputs": [],
   "source": [
    "df_country=df.groupby(['country_or_area'],as_index=False)['weight_kg','quantity'].agg('sum')\n"
   ]
  },
  {
   "cell_type": "code",
   "execution_count": 8,
   "metadata": {},
   "outputs": [],
   "source": [
    "df_country=df_country.sort_values(['weight_kg'],ascending=False)\n"
   ]
  },
  {
   "cell_type": "code",
   "execution_count": 9,
   "metadata": {},
   "outputs": [
    {
     "data": {
      "image/png": "[encoded data removed]",
      "text/plain": [
       "<Figure size 986.4x595.44 with 1 Axes>"
      ]
     },
     "metadata": {},
     "output_type": "display_data"
    }
   ],
   "source": [
    "fig, ax = plt.subplots()\n",
    "\n",
    "fig.set_size_inches(13.7, 8.27)\n",
    "\n",
    "sns.set_context(\"paper\", font_scale=1.5)\n",
    "f=sns.barplot(x=df_country[\"country_or_area\"].head(20), y=df_country['weight_kg'].head(20), data=df_country)\n",
    "f.set_xlabel(\"Name of Country\",fontsize=15)\n",
    "f.set_ylabel(\"Import/Export Amount\",fontsize=15)\n",
    "f.set_title('Top countries dominating Global Trade')\n",
    "for item in f.get_xticklabels():\n",
    "    item.set_rotation(90)"
   ]
  },
  {
   "cell_type": "markdown",
   "metadata": {},
   "source": [
    "### China has been dominating the global trade market!"
   ]
  },
  {
   "cell_type": "markdown",
   "metadata": {},
   "source": [
    "### Let's look at the top assets which have been traded, and visualise it using a donut chart"
   ]
  },
  {
   "cell_type": "markdown",
   "metadata": {},
   "source": [
    "### One may wonder why China is doing so well, and therefore, we plot its graph of trading over time"
   ]
  },
  {
   "cell_type": "code",
   "execution_count": 10,
   "metadata": {},
   "outputs": [
    {
     "name": "stderr",
     "output_type": "stream",
     "text": [
      "C:\\Users\\parth\\Anaconda3\\lib\\site-packages\\ipykernel_launcher.py:1: DeprecationWarning:\n",
      "\n",
      "\n",
      ".ix is deprecated. Please use\n",
      ".loc for label based indexing or\n",
      ".iloc for positional indexing\n",
      "\n",
      "See the documentation here:\n",
      "http://pandas.pydata.org/pandas-docs/stable/indexing.html#ix-indexer-is-deprecated\n",
      "\n"
     ]
    },
    {
     "data": {
      "text/plain": [
       "<matplotlib.axes._subplots.AxesSubplot at 0x21549de44e0>"
      ]
     },
     "execution_count": 10,
     "metadata": {},
     "output_type": "execute_result"
    },
    {
     "data": {
      "image/png": "[encoded data removed]",
      "text/plain": [
       "<Figure size 720x432 with 1 Axes>"
      ]
     },
     "metadata": {},
     "output_type": "display_data"
    }
   ],
   "source": [
    "df_china=df.ix[df['country_or_area']=='China']\n",
    "df_chinaie2=df_china.groupby(['year'],as_index=True)['weight_kg','quantity'].agg('sum')\n",
    "df_chinaie2.plot(figsize=(10,6))\n"
   ]
  },
  {
   "cell_type": "markdown",
   "metadata": {},
   "source": [
    "### If China has had a phenomenal graph, like shown above, let us find out what are the top commodities China trades"
   ]
  },
  {
   "cell_type": "code",
   "execution_count": 11,
   "metadata": {},
   "outputs": [
    {
     "name": "stderr",
     "output_type": "stream",
     "text": [
      "C:\\Users\\parth\\Anaconda3\\lib\\site-packages\\ipykernel_launcher.py:1: DeprecationWarning:\n",
      "\n",
      "\n",
      ".ix is deprecated. Please use\n",
      ".loc for label based indexing or\n",
      ".iloc for positional indexing\n",
      "\n",
      "See the documentation here:\n",
      "http://pandas.pydata.org/pandas-docs/stable/indexing.html#ix-indexer-is-deprecated\n",
      "\n"
     ]
    },
    {
     "data": {
      "application/vnd.plotly.v1+json": {
       "data": [
        {
         "labels": [
          "Plain weave cotton",
          "Woven cotton nes",
          "Woven fabric",
          "Footwear",
          "Twill weave cotton",
          "Wire",
          "Woven cotton fabric",
          "Wrist-watch",
          "Seed",
          "Bed linen",
          "Yarn",
          "Automobiles",
          "Bars",
          "Lumber",
          "Chem wood pulp",
          "Plate",
          "Curtains drapes blinds valances",
          "Foil",
          "Woven fabric synthetic filament",
          "Rubber tube"
         ],
         "type": "pie",
         "uid": "9a29a8a2-9b85-11e8-91d3-cc35ee620b82",
         "values": [
          10.446448207609413,
          9.896635144051022,
          7.147569826259072,
          6.707719375412361,
          6.707719375412361,
          6.531779195073676,
          6.047943699142292,
          5.25621288761821,
          4.816362436771498,
          3.8486914449087313,
          3.7827138772817244,
          3.7607213547393887,
          3.738728832197053,
          3.562788651858368,
          3.2329008137233344,
          3.188915768638663,
          3.078953155926985,
          2.7490653177919504,
          2.7490653177919504,
          2.7490653177919504
         ]
        }
       ],
       "layout": {
        "height": 900,
        "title": "Top 20 Commodity Items Exported by China",
        "width": 900
       }
      },
      "text/html": [
       "<div id=\"c88bad8f-45fd-4e5d-a7dc-a3a48acd2523\" style=\"height: 900px; width: 900px;\" class=\"plotly-graph-div\"></div><script type=\"text/javascript\">require([\"plotly\"], function(Plotly) { window.PLOTLYENV=window.PLOTLYENV || {};window.PLOTLYENV.BASE_URL=\"https://plot.ly\";\n",
       "        Plotly.plot(\n",
       "            'c88bad8f-45fd-4e5d-a7dc-a3a48acd2523',\n",
       "            [{\"labels\": [\"Plain weave cotton\", \"Woven cotton nes\", \"Woven fabric\", \"Footwear\", \"Twill weave cotton\", \"Wire\", \"Woven cotton fabric\", \"Wrist-watch\", \"Seed\", \"Bed linen\", \"Yarn\", \"Automobiles\", \"Bars\", \"Lumber\", \"Chem wood pulp\", \"Plate\", \"Curtains drapes blinds valances\", \"Foil\", \"Woven fabric synthetic filament\", \"Rubber tube\"], \"values\": [10.446448207609413, 9.896635144051022, 7.147569826259072, 6.707719375412361, 6.707719375412361, 6.531779195073676, 6.047943699142292, 5.25621288761821, 4.816362436771498, 3.8486914449087313, 3.7827138772817244, 3.7607213547393887, 3.738728832197053, 3.562788651858368, 3.2329008137233344, 3.188915768638663, 3.078953155926985, 2.7490653177919504, 2.7490653177919504, 2.7490653177919504], \"type\": \"pie\", \"uid\": \"9a29a8a2-9b85-11e8-91d3-cc35ee620b82\"}],\n",
       "            {\"height\": 900, \"title\": \"Top 20 Commodity Items Exported by China\", \"width\": 900},\n",
       "            {\"showLink\": true, \"linkText\": \"Export to plot.ly\"}\n",
       "        ).then(function () {return Plotly.addFrames('c88bad8f-45fd-4e5d-a7dc-a3a48acd2523',{});}).then(function(){Plotly.animate('c88bad8f-45fd-4e5d-a7dc-a3a48acd2523');})\n",
       "        });</script>"
      ],
      "text/vnd.plotly.v1+html": [
       "<div id=\"c88bad8f-45fd-4e5d-a7dc-a3a48acd2523\" style=\"height: 900px; width: 900px;\" class=\"plotly-graph-div\"></div><script type=\"text/javascript\">require([\"plotly\"], function(Plotly) { window.PLOTLYENV=window.PLOTLYENV || {};window.PLOTLYENV.BASE_URL=\"https://plot.ly\";\n",
       "        Plotly.plot(\n",
       "            'c88bad8f-45fd-4e5d-a7dc-a3a48acd2523',\n",
       "            [{\"labels\": [\"Plain weave cotton\", \"Woven cotton nes\", \"Woven fabric\", \"Footwear\", \"Twill weave cotton\", \"Wire\", \"Woven cotton fabric\", \"Wrist-watch\", \"Seed\", \"Bed linen\", \"Yarn\", \"Automobiles\", \"Bars\", \"Lumber\", \"Chem wood pulp\", \"Plate\", \"Curtains drapes blinds valances\", \"Foil\", \"Woven fabric synthetic filament\", \"Rubber tube\"], \"values\": [10.446448207609413, 9.896635144051022, 7.147569826259072, 6.707719375412361, 6.707719375412361, 6.531779195073676, 6.047943699142292, 5.25621288761821, 4.816362436771498, 3.8486914449087313, 3.7827138772817244, 3.7607213547393887, 3.738728832197053, 3.562788651858368, 3.2329008137233344, 3.188915768638663, 3.078953155926985, 2.7490653177919504, 2.7490653177919504, 2.7490653177919504], \"type\": \"pie\", \"uid\": \"9a29a8a2-9b85-11e8-91d3-cc35ee620b82\"}],\n",
       "            {\"height\": 900, \"title\": \"Top 20 Commodity Items Exported by China\", \"width\": 900},\n",
       "            {\"showLink\": true, \"linkText\": \"Export to plot.ly\"}\n",
       "        ).then(function () {return Plotly.addFrames('c88bad8f-45fd-4e5d-a7dc-a3a48acd2523',{});}).then(function(){Plotly.animate('c88bad8f-45fd-4e5d-a7dc-a3a48acd2523');})\n",
       "        });</script>"
      ]
     },
     "metadata": {},
     "output_type": "display_data"
    }
   ],
   "source": [
    "df_china_export=df_china.ix[df_china['flow']==\"Export\"]\n",
    "df_china_commodity=pd.concat([df_china_export['commodity'].str.split(', ', expand=True)], axis=1)\n",
    "temp_series = df_china_commodity[0].value_counts().head(20)\n",
    "labels = (np.array(temp_series.index))\n",
    "sizes = (np.array((temp_series / temp_series.sum())*100))\n",
    "\n",
    "trace = go.Pie(labels=labels, values=sizes)\n",
    "layout = go.Layout(\n",
    "    title='Top 20 Commodity Items Exported by China',\n",
    "    width=900,\n",
    "    height=900,\n",
    ")\n",
    "data = [trace]\n",
    "fig = go.Figure(data=data, layout=layout)\n",
    "offline.iplot(fig, filename=\"Commodity\")\n"
   ]
  },
  {
   "cell_type": "markdown",
   "metadata": {},
   "source": [
    "## Wow, almost 35 % of items exported in China are from the textile/clothing industry (cotton, woven fabric, twill weave cotton) "
   ]
  },
  {
   "cell_type": "markdown",
   "metadata": {},
   "source": [
    "## Let us find out what are the top commodities China imports"
   ]
  },
  {
   "cell_type": "code",
   "execution_count": 29,
   "metadata": {},
   "outputs": [
    {
     "data": {
      "application/vnd.plotly.v1+json": {
       "data": [
        {
         "marker": {
          "color": [
           1114,
           1147,
           1190,
           1219,
           1221,
           1228,
           1312,
           1358,
           1360,
           1361,
           1413,
           1487,
           1605,
           1614,
           1639,
           1702,
           1830,
           1978,
           2773,
           3102
          ]
         },
         "orientation": "h",
         "type": "bar",
         "uid": "15b7064c-9b59-11e8-ae76-cc35ee620b82",
         "x": [
          1114,
          1147,
          1190,
          1219,
          1221,
          1228,
          1312,
          1358,
          1360,
          1361,
          1413,
          1487,
          1605,
          1614,
          1639,
          1702,
          1830,
          1978,
          2773,
          3102
         ],
         "y": [
          "71_pearls_precious_stones_metals_coins_etc",
          "08_edible_fruit_nuts_peel_of_citrus_fruit_melons",
          "07_edible_vegetables_and_certain_roots_and_tubers",
          "68_stone_plaster_cement_asbestos_mica_etc_articles",
          "96_miscellaneous_manufactured_articles",
          "15_animal_vegetable_fats_and_oils_cleavage_products_et",
          "91_clocks_and_watches_and_parts_thereof",
          "63_other_made_textile_articles_sets_worn_clothing_etc",
          "74_copper_and_articles_thereof",
          "38_miscellaneous_chemical_products",
          "70_glass_and_glassware",
          "44_wood_and_articles_of_wood_wood_charcoal",
          "54_manmade_filaments",
          "82_tools_implements_cutlery_etc_of_base_metal",
          "40_rubber_and_articles_thereof",
          "25_salt_sulphur_earth_stone_plaster_lime_and_cement",
          "87_vehicles_other_than_railway_tramway",
          "03_fish_crustaceans_molluscs_aquatic_invertebrates_ne",
          "55_manmade_staple_fibres",
          "52_cotton"
         ]
        }
       ],
       "layout": {
        "title": "Top Imported Items by China"
       }
      },
      "text/html": [
       "<div id=\"e27a1108-e879-48fc-9572-c5df652b7c76\" style=\"height: 525px; width: 100%;\" class=\"plotly-graph-div\"></div><script type=\"text/javascript\">require([\"plotly\"], function(Plotly) { window.PLOTLYENV=window.PLOTLYENV || {};window.PLOTLYENV.BASE_URL=\"https://plot.ly\";\n",
       "        Plotly.plot(\n",
       "            'e27a1108-e879-48fc-9572-c5df652b7c76',\n",
       "            [{\"marker\": {\"color\": [1114.0, 1147.0, 1190.0, 1219.0, 1221.0, 1228.0, 1312.0, 1358.0, 1360.0, 1361.0, 1413.0, 1487.0, 1605.0, 1614.0, 1639.0, 1702.0, 1830.0, 1978.0, 2773.0, 3102.0]}, \"orientation\": \"h\", \"x\": [1114.0, 1147.0, 1190.0, 1219.0, 1221.0, 1228.0, 1312.0, 1358.0, 1360.0, 1361.0, 1413.0, 1487.0, 1605.0, 1614.0, 1639.0, 1702.0, 1830.0, 1978.0, 2773.0, 3102.0], \"y\": [\"71_pearls_precious_stones_metals_coins_etc\", \"08_edible_fruit_nuts_peel_of_citrus_fruit_melons\", \"07_edible_vegetables_and_certain_roots_and_tubers\", \"68_stone_plaster_cement_asbestos_mica_etc_articles\", \"96_miscellaneous_manufactured_articles\", \"15_animal_vegetable_fats_and_oils_cleavage_products_et\", \"91_clocks_and_watches_and_parts_thereof\", \"63_other_made_textile_articles_sets_worn_clothing_etc\", \"74_copper_and_articles_thereof\", \"38_miscellaneous_chemical_products\", \"70_glass_and_glassware\", \"44_wood_and_articles_of_wood_wood_charcoal\", \"54_manmade_filaments\", \"82_tools_implements_cutlery_etc_of_base_metal\", \"40_rubber_and_articles_thereof\", \"25_salt_sulphur_earth_stone_plaster_lime_and_cement\", \"87_vehicles_other_than_railway_tramway\", \"03_fish_crustaceans_molluscs_aquatic_invertebrates_ne\", \"55_manmade_staple_fibres\", \"52_cotton\"], \"type\": \"bar\", \"uid\": \"15b7064c-9b59-11e8-ae76-cc35ee620b82\"}],\n",
       "            {\"title\": \"Top Imported Items by China\"},\n",
       "            {\"showLink\": true, \"linkText\": \"Export to plot.ly\"}\n",
       "        ).then(function () {return Plotly.addFrames('e27a1108-e879-48fc-9572-c5df652b7c76',{});}).then(function(){Plotly.animate('e27a1108-e879-48fc-9572-c5df652b7c76');})\n",
       "        });</script>"
      ],
      "text/vnd.plotly.v1+html": [
       "<div id=\"e27a1108-e879-48fc-9572-c5df652b7c76\" style=\"height: 525px; width: 100%;\" class=\"plotly-graph-div\"></div><script type=\"text/javascript\">require([\"plotly\"], function(Plotly) { window.PLOTLYENV=window.PLOTLYENV || {};window.PLOTLYENV.BASE_URL=\"https://plot.ly\";\n",
       "        Plotly.plot(\n",
       "            'e27a1108-e879-48fc-9572-c5df652b7c76',\n",
       "            [{\"marker\": {\"color\": [1114.0, 1147.0, 1190.0, 1219.0, 1221.0, 1228.0, 1312.0, 1358.0, 1360.0, 1361.0, 1413.0, 1487.0, 1605.0, 1614.0, 1639.0, 1702.0, 1830.0, 1978.0, 2773.0, 3102.0]}, \"orientation\": \"h\", \"x\": [1114.0, 1147.0, 1190.0, 1219.0, 1221.0, 1228.0, 1312.0, 1358.0, 1360.0, 1361.0, 1413.0, 1487.0, 1605.0, 1614.0, 1639.0, 1702.0, 1830.0, 1978.0, 2773.0, 3102.0], \"y\": [\"71_pearls_precious_stones_metals_coins_etc\", \"08_edible_fruit_nuts_peel_of_citrus_fruit_melons\", \"07_edible_vegetables_and_certain_roots_and_tubers\", \"68_stone_plaster_cement_asbestos_mica_etc_articles\", \"96_miscellaneous_manufactured_articles\", \"15_animal_vegetable_fats_and_oils_cleavage_products_et\", \"91_clocks_and_watches_and_parts_thereof\", \"63_other_made_textile_articles_sets_worn_clothing_etc\", \"74_copper_and_articles_thereof\", \"38_miscellaneous_chemical_products\", \"70_glass_and_glassware\", \"44_wood_and_articles_of_wood_wood_charcoal\", \"54_manmade_filaments\", \"82_tools_implements_cutlery_etc_of_base_metal\", \"40_rubber_and_articles_thereof\", \"25_salt_sulphur_earth_stone_plaster_lime_and_cement\", \"87_vehicles_other_than_railway_tramway\", \"03_fish_crustaceans_molluscs_aquatic_invertebrates_ne\", \"55_manmade_staple_fibres\", \"52_cotton\"], \"type\": \"bar\", \"uid\": \"15b7064c-9b59-11e8-ae76-cc35ee620b82\"}],\n",
       "            {\"title\": \"Top Imported Items by China\"},\n",
       "            {\"showLink\": true, \"linkText\": \"Export to plot.ly\"}\n",
       "        ).then(function () {return Plotly.addFrames('e27a1108-e879-48fc-9572-c5df652b7c76',{});}).then(function(){Plotly.animate('e27a1108-e879-48fc-9572-c5df652b7c76');})\n",
       "        });</script>"
      ]
     },
     "metadata": {},
     "output_type": "display_data"
    }
   ],
   "source": [
    "df_china_import=df_china.ix[df_china['flow']==\"Import\"]\n",
    "cnt_srs = df_china_import['category'].value_counts().head(20)\n",
    "trace = go.Bar(\n",
    "    y=cnt_srs.index[::-1],\n",
    "    x=cnt_srs.values[::-1],\n",
    "    orientation = 'h',\n",
    "    marker=dict(\n",
    "        color=cnt_srs.values[::-1])\n",
    ")\n",
    "\n",
    "layout = dict(\n",
    "    title='Top Imported Items by China',\n",
    "    )\n",
    "data = [trace]\n",
    "fig = go.Figure(data=data, layout=layout)\n",
    "offline.iplot(fig, filename=\"Animals\")"
   ]
  },
  {
   "cell_type": "markdown",
   "metadata": {},
   "source": [
    "### Now let's choose a random country for similar analysis. After using random generator, the country selected was- "
   ]
  },
  {
   "cell_type": "markdown",
   "metadata": {},
   "source": [
    "# India"
   ]
  },
  {
   "cell_type": "code",
   "execution_count": 12,
   "metadata": {},
   "outputs": [
    {
     "name": "stderr",
     "output_type": "stream",
     "text": [
      "C:\\Users\\parth\\Anaconda3\\lib\\site-packages\\ipykernel_launcher.py:1: DeprecationWarning:\n",
      "\n",
      "\n",
      ".ix is deprecated. Please use\n",
      ".loc for label based indexing or\n",
      ".iloc for positional indexing\n",
      "\n",
      "See the documentation here:\n",
      "http://pandas.pydata.org/pandas-docs/stable/indexing.html#ix-indexer-is-deprecated\n",
      "\n"
     ]
    },
    {
     "data": {
      "text/plain": [
       "<matplotlib.axes._subplots.AxesSubplot at 0x21549571048>"
      ]
     },
     "execution_count": 12,
     "metadata": {},
     "output_type": "execute_result"
    },
    {
     "data": {
      "image/png": "[encoded data removed]",
      "text/plain": [
       "<Figure size 720x432 with 1 Axes>"
      ]
     },
     "metadata": {},
     "output_type": "display_data"
    }
   ],
   "source": [
    "df_india=df.ix[df['country_or_area']=='India']\n",
    "df_indiaie2=df_india.groupby(['year'],as_index=True)['weight_kg','quantity'].agg('sum')\n",
    "df_indiaie2.plot(figsize=(10,6))\n"
   ]
  },
  {
   "cell_type": "markdown",
   "metadata": {},
   "source": [
    "### It will be interesting to see if India exports or imports more!"
   ]
  },
  {
   "cell_type": "code",
   "execution_count": 13,
   "metadata": {},
   "outputs": [
    {
     "data": {
      "application/vnd.plotly.v1+json": {
       "data": [
        {
         "marker": {
          "color": [
           35101,
           33866,
           205
          ]
         },
         "type": "bar",
         "uid": "e8a5ac5c-9b85-11e8-8d29-cc35ee620b82",
         "x": [
          "Export",
          "Import",
          "Re-Export"
         ],
         "y": [
          35101,
          33866,
          205
         ]
        }
       ],
       "layout": {
        "title": "Imports/Exports Ratio (India)"
       }
      },
      "text/html": [
       "<div id=\"43c1171b-9319-4b93-a986-fd6254ec9e88\" style=\"height: 525px; width: 100%;\" class=\"plotly-graph-div\"></div><script type=\"text/javascript\">require([\"plotly\"], function(Plotly) { window.PLOTLYENV=window.PLOTLYENV || {};window.PLOTLYENV.BASE_URL=\"https://plot.ly\";\n",
       "        Plotly.plot(\n",
       "            '43c1171b-9319-4b93-a986-fd6254ec9e88',\n",
       "            [{\"marker\": {\"color\": [35101.0, 33866.0, 205.0]}, \"x\": [\"Export\", \"Import\", \"Re-Export\"], \"y\": [35101.0, 33866.0, 205.0], \"type\": \"bar\", \"uid\": \"e8a5ac5c-9b85-11e8-8d29-cc35ee620b82\"}],\n",
       "            {\"title\": \"Imports/Exports Ratio (India)\"},\n",
       "            {\"showLink\": true, \"linkText\": \"Export to plot.ly\"}\n",
       "        ).then(function () {return Plotly.addFrames('43c1171b-9319-4b93-a986-fd6254ec9e88',{});}).then(function(){Plotly.animate('43c1171b-9319-4b93-a986-fd6254ec9e88');})\n",
       "        });</script>"
      ],
      "text/vnd.plotly.v1+html": [
       "<div id=\"43c1171b-9319-4b93-a986-fd6254ec9e88\" style=\"height: 525px; width: 100%;\" class=\"plotly-graph-div\"></div><script type=\"text/javascript\">require([\"plotly\"], function(Plotly) { window.PLOTLYENV=window.PLOTLYENV || {};window.PLOTLYENV.BASE_URL=\"https://plot.ly\";\n",
       "        Plotly.plot(\n",
       "            '43c1171b-9319-4b93-a986-fd6254ec9e88',\n",
       "            [{\"marker\": {\"color\": [35101.0, 33866.0, 205.0]}, \"x\": [\"Export\", \"Import\", \"Re-Export\"], \"y\": [35101.0, 33866.0, 205.0], \"type\": \"bar\", \"uid\": \"e8a5ac5c-9b85-11e8-8d29-cc35ee620b82\"}],\n",
       "            {\"title\": \"Imports/Exports Ratio (India)\"},\n",
       "            {\"showLink\": true, \"linkText\": \"Export to plot.ly\"}\n",
       "        ).then(function () {return Plotly.addFrames('43c1171b-9319-4b93-a986-fd6254ec9e88',{});}).then(function(){Plotly.animate('43c1171b-9319-4b93-a986-fd6254ec9e88');})\n",
       "        });</script>"
      ]
     },
     "metadata": {},
     "output_type": "display_data"
    }
   ],
   "source": [
    "cnt_srs = df_india['flow'].value_counts()\n",
    "\n",
    "trace = go.Bar(\n",
    "    x=cnt_srs.index,\n",
    "    y=cnt_srs.values,\n",
    "    marker=dict(\n",
    "        color=cnt_srs.values\n",
    "    ),\n",
    ")\n",
    "\n",
    "layout = go.Layout(\n",
    "    title='Imports/Exports Ratio (India)'\n",
    ")\n",
    "\n",
    "data = [trace]\n",
    "fig = go.Figure(data=data, layout=layout)\n",
    "offline.iplot(fig, filename=\"Ratio\")\n"
   ]
  },
  {
   "cell_type": "markdown",
   "metadata": {},
   "source": [
    "### What items does India export the most?"
   ]
  },
  {
   "cell_type": "code",
   "execution_count": 14,
   "metadata": {},
   "outputs": [
    {
     "name": "stderr",
     "output_type": "stream",
     "text": [
      "C:\\Users\\parth\\Anaconda3\\lib\\site-packages\\ipykernel_launcher.py:1: DeprecationWarning:\n",
      "\n",
      "\n",
      ".ix is deprecated. Please use\n",
      ".loc for label based indexing or\n",
      ".iloc for positional indexing\n",
      "\n",
      "See the documentation here:\n",
      "http://pandas.pydata.org/pandas-docs/stable/indexing.html#ix-indexer-is-deprecated\n",
      "\n",
      "C:\\Users\\parth\\Anaconda3\\lib\\site-packages\\ipykernel_launcher.py:3: DeprecationWarning:\n",
      "\n",
      "\n",
      ".ix is deprecated. Please use\n",
      ".loc for label based indexing or\n",
      ".iloc for positional indexing\n",
      "\n",
      "See the documentation here:\n",
      "http://pandas.pydata.org/pandas-docs/stable/indexing.html#ix-indexer-is-deprecated\n",
      "\n"
     ]
    },
    {
     "data": {
      "application/vnd.plotly.v1+json": {
       "data": [
        {
         "labels": [
          "Woven fabric",
          "Footwear",
          "Wire",
          "Seed",
          "Wrist-watch",
          "Tea",
          "Carpets of yarn nes",
          "Sheep cuts",
          "Carpets of manmade yarn",
          "Coffee",
          "Tubes and pipe",
          "Bars",
          "Twine",
          "Film",
          "Trunks",
          "Fabric impregnated",
          "Mountings",
          "Foil",
          "Bovine and equine leather",
          "Leather"
         ],
         "type": "pie",
         "uid": "e8becc00-9b85-11e8-a214-cc35ee620b82",
         "values": [
          13.119429590017825,
          12.869875222816399,
          8.591800356506239,
          7.450980392156863,
          5.561497326203209,
          4.135472370766488,
          4.135472370766488,
          3.9572192513368987,
          3.8502673796791447,
          3.8502673796791447,
          3.6007130124777187,
          3.6007130124777187,
          3.351158645276292,
          3.3155080213903747,
          3.1016042780748663,
          3.1016042780748663,
          3.1016042780748663,
          3.1016042780748663,
          3.1016042780748663,
          3.1016042780748663
         ]
        }
       ],
       "layout": {
        "height": 900,
        "title": "Top 20 Commodity Items Exported by India",
        "width": 900
       }
      },
      "text/html": [
       "<div id=\"1483ba89-ef87-44e7-91e7-a8e99e5475b9\" style=\"height: 900px; width: 900px;\" class=\"plotly-graph-div\"></div><script type=\"text/javascript\">require([\"plotly\"], function(Plotly) { window.PLOTLYENV=window.PLOTLYENV || {};window.PLOTLYENV.BASE_URL=\"https://plot.ly\";\n",
       "        Plotly.plot(\n",
       "            '1483ba89-ef87-44e7-91e7-a8e99e5475b9',\n",
       "            [{\"labels\": [\"Woven fabric\", \"Footwear\", \"Wire\", \"Seed\", \"Wrist-watch\", \"Tea\", \"Carpets of yarn nes\", \"Sheep cuts\", \"Carpets of manmade yarn\", \"Coffee\", \"Tubes and pipe\", \"Bars\", \"Twine\", \"Film\", \"Trunks\", \"Fabric impregnated\", \"Mountings\", \"Foil\", \"Bovine and equine leather\", \"Leather\"], \"values\": [13.119429590017825, 12.869875222816399, 8.591800356506239, 7.450980392156863, 5.561497326203209, 4.135472370766488, 4.135472370766488, 3.9572192513368987, 3.8502673796791447, 3.8502673796791447, 3.6007130124777187, 3.6007130124777187, 3.351158645276292, 3.3155080213903747, 3.1016042780748663, 3.1016042780748663, 3.1016042780748663, 3.1016042780748663, 3.1016042780748663, 3.1016042780748663], \"type\": \"pie\", \"uid\": \"e8becc00-9b85-11e8-a214-cc35ee620b82\"}],\n",
       "            {\"height\": 900, \"title\": \"Top 20 Commodity Items Exported by India\", \"width\": 900},\n",
       "            {\"showLink\": true, \"linkText\": \"Export to plot.ly\"}\n",
       "        ).then(function () {return Plotly.addFrames('1483ba89-ef87-44e7-91e7-a8e99e5475b9',{});}).then(function(){Plotly.animate('1483ba89-ef87-44e7-91e7-a8e99e5475b9');})\n",
       "        });</script>"
      ],
      "text/vnd.plotly.v1+html": [
       "<div id=\"1483ba89-ef87-44e7-91e7-a8e99e5475b9\" style=\"height: 900px; width: 900px;\" class=\"plotly-graph-div\"></div><script type=\"text/javascript\">require([\"plotly\"], function(Plotly) { window.PLOTLYENV=window.PLOTLYENV || {};window.PLOTLYENV.BASE_URL=\"https://plot.ly\";\n",
       "        Plotly.plot(\n",
       "            '1483ba89-ef87-44e7-91e7-a8e99e5475b9',\n",
       "            [{\"labels\": [\"Woven fabric\", \"Footwear\", \"Wire\", \"Seed\", \"Wrist-watch\", \"Tea\", \"Carpets of yarn nes\", \"Sheep cuts\", \"Carpets of manmade yarn\", \"Coffee\", \"Tubes and pipe\", \"Bars\", \"Twine\", \"Film\", \"Trunks\", \"Fabric impregnated\", \"Mountings\", \"Foil\", \"Bovine and equine leather\", \"Leather\"], \"values\": [13.119429590017825, 12.869875222816399, 8.591800356506239, 7.450980392156863, 5.561497326203209, 4.135472370766488, 4.135472370766488, 3.9572192513368987, 3.8502673796791447, 3.8502673796791447, 3.6007130124777187, 3.6007130124777187, 3.351158645276292, 3.3155080213903747, 3.1016042780748663, 3.1016042780748663, 3.1016042780748663, 3.1016042780748663, 3.1016042780748663, 3.1016042780748663], \"type\": \"pie\", \"uid\": \"e8becc00-9b85-11e8-a214-cc35ee620b82\"}],\n",
       "            {\"height\": 900, \"title\": \"Top 20 Commodity Items Exported by India\", \"width\": 900},\n",
       "            {\"showLink\": true, \"linkText\": \"Export to plot.ly\"}\n",
       "        ).then(function () {return Plotly.addFrames('1483ba89-ef87-44e7-91e7-a8e99e5475b9',{});}).then(function(){Plotly.animate('1483ba89-ef87-44e7-91e7-a8e99e5475b9');})\n",
       "        });</script>"
      ]
     },
     "metadata": {},
     "output_type": "display_data"
    }
   ],
   "source": [
    "df_india_export=df_india.ix[df_india['flow']==\"Export\"]\n",
    "df_india_commodity=pd.concat([df_india_export['commodity'].str.split(', ', expand=True)], axis=1)\n",
    "df_india_import=df_india.ix[df_india['flow']==\"Import\"]\n",
    "\n",
    "\n",
    "temp_series = df_india_commodity[0].value_counts().head(20)\n",
    "labels = (np.array(temp_series.index))\n",
    "sizes = (np.array((temp_series / temp_series.sum())*100))\n",
    "\n",
    "trace = go.Pie(labels=labels, values=sizes)\n",
    "layout = go.Layout(\n",
    "    title='Top 20 Commodity Items Exported by India',\n",
    "    width=900,\n",
    "    height=900,\n",
    ")\n",
    "data = [trace]\n",
    "fig = go.Figure(data=data, layout=layout)\n",
    "offline.iplot(fig, filename=\"Commodity\")\n",
    "\n"
   ]
  },
  {
   "cell_type": "code",
   "execution_count": null,
   "metadata": {},
   "outputs": [],
   "source": []
  }
 ],
 "metadata": {
  "kernelspec": {
   "display_name": "Python 3",
   "language": "python",
   "name": "python3"
  },
  "language_info": {
   "codemirror_mode": {
    "name": "ipython",
    "version": 3
   },
   "file_extension": ".py",
   "mimetype": "text/x-python",
   "name": "python",
   "nbconvert_exporter": "python",
   "pygments_lexer": "ipython3",
   "version": "3.6.4"
  }
 },
 "nbformat": 4,
 "nbformat_minor": 2
}
